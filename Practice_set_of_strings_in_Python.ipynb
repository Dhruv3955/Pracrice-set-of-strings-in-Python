{
  "nbformat": 4,
  "nbformat_minor": 0,
  "metadata": {
    "colab": {
      "provenance": []
    },
    "kernelspec": {
      "name": "python3",
      "display_name": "Python 3"
    },
    "language_info": {
      "name": "python"
    }
  },
  "cells": [
    {
      "cell_type": "code",
      "execution_count": 3,
      "metadata": {
        "colab": {
          "base_uri": "https://localhost:8080/"
        },
        "id": "JhykJhpDwfc6",
        "outputId": "ff6fe7e1-4294-4552-eda0-dffc728a57a3"
      },
      "outputs": [
        {
          "output_type": "stream",
          "name": "stdout",
          "text": [
            "Enter your name: shilu\n",
            "shilu, Good morning\n"
          ]
        }
      ],
      "source": [
        "# Question 1\n",
        "\n",
        "a = input(\"Enter your name: \")\n",
        "b = \", Good morning\"\n",
        "\n",
        "print (a+b)"
      ]
    },
    {
      "cell_type": "code",
      "source": [
        "letter = '''Dear <|NAME|>,\n",
        "\n",
        "You are selected!\n",
        "\n",
        "Date: <|DATE|>\n",
        "'''\n",
        "\n",
        "name = input(\"Enter you name\\n\")\n",
        "date = input(\"Enter the date\\n\")\n",
        "\n",
        "letter = letter.replace(\"<|NAME|>\", name)\n",
        "letter = letter.replace(\"<|DATE|>\", date)\n",
        "\n",
        "print(letter)\n"
      ],
      "metadata": {
        "colab": {
          "base_uri": "https://localhost:8080/"
        },
        "id": "Pba-dcPrxGSi",
        "outputId": "2aca9cba-9061-4d64-bda7-761c5d7bb37d"
      },
      "execution_count": 9,
      "outputs": [
        {
          "output_type": "stream",
          "name": "stdout",
          "text": [
            "Enter you name\n",
            "Dhruv\n",
            "Enter the date\n",
            "10th November\n",
            "Dear Dhruv,\n",
            "\n",
            "You are selected!\n",
            "\n",
            "Date: 10th November\n",
            "\n"
          ]
        }
      ]
    },
    {
      "cell_type": "code",
      "source": [
        "# Detecting Double Spaces in a string\n",
        "\n",
        "a = \"My name is Dhruv and i am curently studying  AIML\"\n",
        "print(a.find(\"  \"))"
      ],
      "metadata": {
        "colab": {
          "base_uri": "https://localhost:8080/"
        },
        "id": "T7r9ksDIyBdZ",
        "outputId": "a74bb2ee-a3df-45e9-b489-189b604fd0a3"
      },
      "execution_count": 10,
      "outputs": [
        {
          "output_type": "stream",
          "name": "stdout",
          "text": [
            "43\n"
          ]
        }
      ]
    },
    {
      "cell_type": "code",
      "source": [
        "letter = \"Dear shilu, you are so much beautiful\"\n",
        "formated_letter = \"Dear shilu,\\nyou are so much beautiful\"\n",
        "print (formated_letter)"
      ],
      "metadata": {
        "colab": {
          "base_uri": "https://localhost:8080/"
        },
        "id": "WMHE7Mm71pjc",
        "outputId": "f71faa23-53ac-409b-da64-323326596e1f"
      },
      "execution_count": 13,
      "outputs": [
        {
          "output_type": "stream",
          "name": "stdout",
          "text": [
            "Dear shilu,\n",
            "you are so much beautiful\n"
          ]
        }
      ]
    },
    {
      "cell_type": "code",
      "source": [],
      "metadata": {
        "id": "evT-B9u031s6"
      },
      "execution_count": null,
      "outputs": []
    }
  ]
}